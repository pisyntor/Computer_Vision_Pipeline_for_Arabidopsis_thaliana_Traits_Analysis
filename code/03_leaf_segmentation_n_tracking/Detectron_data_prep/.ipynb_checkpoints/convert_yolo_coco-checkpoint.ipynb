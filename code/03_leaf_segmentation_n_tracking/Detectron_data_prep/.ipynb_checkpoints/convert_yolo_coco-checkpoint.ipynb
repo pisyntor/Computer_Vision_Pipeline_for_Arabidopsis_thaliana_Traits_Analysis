{
 "cells": [
  {
   "cell_type": "code",
   "execution_count": 2,
   "id": "3f681815-7c54-4e84-8960-d15df5436287",
   "metadata": {},
   "outputs": [],
   "source": [
    "import os\n",
    "import json\n",
    "from pathlib import Path\n",
    "from PIL import Image\n",
    "from tqdm import tqdm\n",
    "\n",
    "\n",
    "def convert_yolo_to_coco(data_folder):\n",
    "    \"\"\"Convert nested YOLO annotations to COCO format and save in a coco folder.\"\"\"\n",
    "\n",
    "    def get_image_info(image_path, image_id):\n",
    "        \"\"\"Retrieve image information for COCO format.\"\"\"\n",
    "        with Image.open(image_path) as img:\n",
    "            width, height = img.size\n",
    "        return {\n",
    "            \"id\": image_id,\n",
    "            \"file_name\": os.path.relpath(image_path, start=data_folder),  # Relative path\n",
    "            \"width\": width,\n",
    "            \"height\": height,\n",
    "            \"date_captured\": \"2025-01-26T12:08:48+00:00\",\n",
    "        }\n",
    "\n",
    "    def get_annotations(label_path, image_id, annotation_id, width, height):\n",
    "        \"\"\"Retrieve annotation information for COCO format.\"\"\"\n",
    "        annotations = []\n",
    "        with open(label_path, \"r\") as f:\n",
    "            lines = f.readlines()\n",
    "            for line in lines:\n",
    "                parts = line.strip().split()\n",
    "                category_id = int(parts[0]) + 1  # YOLO classes are zero-indexed\n",
    "                coords = list(map(float, parts[1:]))\n",
    "\n",
    "                # Extract segmentation and bounding box\n",
    "                segmentation = []\n",
    "                for i in range(0, len(coords), 2):\n",
    "                    segmentation.append(coords[i] * width)\n",
    "                    segmentation.append(coords[i + 1] * height)\n",
    "\n",
    "                x_min = min(segmentation[::2])\n",
    "                y_min = min(segmentation[1::2])\n",
    "                x_max = max(segmentation[::2])\n",
    "                y_max = max(segmentation[1::2])\n",
    "                bbox_width = x_max - x_min\n",
    "                bbox_height = y_max - y_min\n",
    "\n",
    "                annotations.append({\n",
    "                    \"id\": annotation_id,\n",
    "                    \"image_id\": image_id,\n",
    "                    \"category_id\": category_id,\n",
    "                    \"bbox\": [x_min, y_min, bbox_width, bbox_height],\n",
    "                    \"area\": bbox_width * bbox_height,\n",
    "                    \"segmentation\": [segmentation],\n",
    "                    \"iscrowd\": 0,\n",
    "                })\n",
    "                annotation_id += 1\n",
    "        return annotations, annotation_id\n",
    "\n",
    "    def process_split(split_name, coco_output_dir):\n",
    "        \"\"\"Process train, val, or test split.\"\"\"\n",
    "        image_root = os.path.join(data_folder, \"images\", split_name)\n",
    "        label_root = os.path.join(data_folder, \"labels\", split_name)\n",
    "        output_file = os.path.join(coco_output_dir, f\"{split_name}_coco_annotations.json\")\n",
    "\n",
    "        images = []\n",
    "        annotations = []\n",
    "        categories = [{\"id\": 1, \"name\": \"leaf\", \"supercategory\": \"none\"}]  # Single class\n",
    "        image_id = 1\n",
    "        annotation_id = 1\n",
    "\n",
    "        # Walk through all subfolders\n",
    "        all_image_files = []\n",
    "        for root, _, files in os.walk(image_root):\n",
    "            for image_file in files:\n",
    "                if image_file.endswith((\".jpg\", \".png\")):\n",
    "                    all_image_files.append(os.path.join(root, image_file))\n",
    "\n",
    "        for image_path in tqdm(all_image_files, desc=f\"Processing {split_name} images\"):\n",
    "            label_path = os.path.join(\n",
    "                label_root, os.path.relpath(os.path.dirname(image_path), image_root),\n",
    "                os.path.splitext(os.path.basename(image_path))[0] + \".txt\"\n",
    "            )\n",
    "\n",
    "            if not os.path.exists(label_path):\n",
    "                continue\n",
    "\n",
    "            # Add image info\n",
    "            image_info = get_image_info(image_path, image_id)\n",
    "            images.append(image_info)\n",
    "\n",
    "            # Add annotation info\n",
    "            img_annotations, annotation_id = get_annotations(\n",
    "                label_path, image_id, annotation_id, image_info[\"width\"], image_info[\"height\"]\n",
    "            )\n",
    "            annotations.extend(img_annotations)\n",
    "            image_id += 1\n",
    "\n",
    "        # Save COCO JSON\n",
    "        coco_data = {\n",
    "            \"info\": {\n",
    "                \"year\": \"2025\",\n",
    "                \"version\": \"1\",\n",
    "                \"description\": \"Exported from nested YOLO to COCO script\",\n",
    "                \"contributor\": \"\",\n",
    "                \"url\": \"\",\n",
    "                \"date_created\": \"2025-01-26T12:08:48+00:00\",\n",
    "            },\n",
    "            \"licenses\": [\n",
    "                {\n",
    "                    \"id\": 1,\n",
    "                    \"url\": \"https://creativecommons.org/licenses/by/4.0/\",\n",
    "                    \"name\": \"CC BY 4.0\"\n",
    "                }\n",
    "            ],\n",
    "            \"categories\": categories,\n",
    "            \"images\": images,\n",
    "            \"annotations\": annotations,\n",
    "        }\n",
    "        with open(output_file, \"w\") as f:\n",
    "            json.dump(coco_data, f, indent=4)\n",
    "        print(f\"Saved COCO annotations for {split_name} at {output_file}\")\n",
    "\n",
    "    # Create the coco directory\n",
    "    coco_output_dir = os.path.join(data_folder, \"coco\")\n",
    "    os.makedirs(coco_output_dir, exist_ok=True)\n",
    "\n",
    "    # Process splits\n",
    "    for split in [\"train\", \"val\", \"test\"]:\n",
    "        process_split(split, coco_output_dir)"
   ]
  },
  {
   "cell_type": "code",
   "execution_count": 3,
   "id": "85297ef8-4e48-4cc6-a813-6c74781a627d",
   "metadata": {},
   "outputs": [],
   "source": [
    "yolo_dataset_path = \"\""
   ]
  },
  {
   "cell_type": "code",
   "execution_count": 4,
   "id": "0988551f-ab9a-40e4-9393-943dd31ff017",
   "metadata": {},
   "outputs": [
    {
     "name": "stderr",
     "output_type": "stream",
     "text": [
      "Processing train images: 100%|████████████████████████████████| 11544/11544 [00:12<00:00, 932.32it/s]\n"
     ]
    },
    {
     "name": "stdout",
     "output_type": "stream",
     "text": [
      "Saved COCO annotations for train at /home/rsaric/Desktop/leaf_cv/data/yolo_train/coco/train_coco_annotations.json\n"
     ]
    },
    {
     "name": "stderr",
     "output_type": "stream",
     "text": [
      "Processing val images: 100%|███████████████████████████████████| 3669/3669 [00:03<00:00, 1043.58it/s]\n"
     ]
    },
    {
     "name": "stdout",
     "output_type": "stream",
     "text": [
      "Saved COCO annotations for val at /home/rsaric/Desktop/leaf_cv/data/yolo_train/coco/val_coco_annotations.json\n"
     ]
    },
    {
     "name": "stderr",
     "output_type": "stream",
     "text": [
      "Processing test images: 0it [00:00, ?it/s]"
     ]
    },
    {
     "name": "stdout",
     "output_type": "stream",
     "text": [
      "Saved COCO annotations for test at /home/rsaric/Desktop/leaf_cv/data/yolo_train/coco/test_coco_annotations.json\n"
     ]
    },
    {
     "name": "stderr",
     "output_type": "stream",
     "text": [
      "\n"
     ]
    }
   ],
   "source": [
    "convert_yolo_to_coco(yolo_dataset_path)"
   ]
  }
 ],
 "metadata": {
  "kernelspec": {
   "display_name": "Python 3 (ipykernel)",
   "language": "python",
   "name": "python3"
  },
  "language_info": {
   "codemirror_mode": {
    "name": "ipython",
    "version": 3
   },
   "file_extension": ".py",
   "mimetype": "text/x-python",
   "name": "python",
   "nbconvert_exporter": "python",
   "pygments_lexer": "ipython3",
   "version": "3.9.13"
  }
 },
 "nbformat": 4,
 "nbformat_minor": 5
}
